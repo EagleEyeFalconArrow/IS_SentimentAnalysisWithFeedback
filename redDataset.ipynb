{
 "cells": [
  {
   "cell_type": "code",
   "execution_count": 1,
   "metadata": {},
   "outputs": [
    {
     "name": "stderr",
     "output_type": "stream",
     "text": [
      "[nltk_data] Downloading package stopwords to\n",
      "[nltk_data]     /home/pranjalthapliyal/nltk_data...\n",
      "[nltk_data]   Package stopwords is already up-to-date!\n"
     ]
    }
   ],
   "source": [
    "import pandas as pd\n",
    "import numpy as np\n",
    "import re\n",
    "import nltk\n",
    "nltk.download('stopwords')\n",
    "from nltk.corpus import stopwords\n",
    "from sklearn.model_selection import train_test_split\n",
    "from sklearn.feature_extraction.text import CountVectorizer\n",
    "from sklearn.naive_bayes import MultinomialNB\n"
   ]
  },
  {
   "cell_type": "code",
   "execution_count": 2,
   "metadata": {},
   "outputs": [],
   "source": [
    "# Load the data from the CSV file\n",
    "df = pd.read_csv('sentiment_data.csv', encoding='ISO-8859-1')\n"
   ]
  },
  {
   "cell_type": "code",
   "execution_count": 3,
   "metadata": {},
   "outputs": [],
   "source": [
    "# Randomly sample 100,000 rows\n",
    "\n",
    "df = df.sample(100000, random_state=0)"
   ]
  },
  {
   "cell_type": "code",
   "execution_count": 5,
   "metadata": {},
   "outputs": [
    {
     "data": {
      "text/html": [
       "<div>\n",
       "<style scoped>\n",
       "    .dataframe tbody tr th:only-of-type {\n",
       "        vertical-align: middle;\n",
       "    }\n",
       "\n",
       "    .dataframe tbody tr th {\n",
       "        vertical-align: top;\n",
       "    }\n",
       "\n",
       "    .dataframe thead th {\n",
       "        text-align: right;\n",
       "    }\n",
       "</style>\n",
       "<table border=\"1\" class=\"dataframe\">\n",
       "  <thead>\n",
       "    <tr style=\"text-align: right;\">\n",
       "      <th></th>\n",
       "      <th>0</th>\n",
       "      <th>1467810369</th>\n",
       "      <th>Mon Apr 06 22:19:45 PDT 2009</th>\n",
       "      <th>NO_QUERY</th>\n",
       "      <th>_TheSpecialOne_</th>\n",
       "      <th>@switchfoot http://twitpic.com/2y1zl - Awww, that's a bummer.  You shoulda got David Carr of Third Day to do it. ;D</th>\n",
       "    </tr>\n",
       "  </thead>\n",
       "  <tbody>\n",
       "    <tr>\n",
       "      <th>1016244</th>\n",
       "      <td>4</td>\n",
       "      <td>1881672289</td>\n",
       "      <td>Fri May 22 05:16:44 PDT 2009</td>\n",
       "      <td>NO_QUERY</td>\n",
       "      <td>viry_trivium</td>\n",
       "      <td>Happy birthday, sister!</td>\n",
       "    </tr>\n",
       "    <tr>\n",
       "      <th>1303317</th>\n",
       "      <td>4</td>\n",
       "      <td>2009051656</td>\n",
       "      <td>Tue Jun 02 15:04:22 PDT 2009</td>\n",
       "      <td>NO_QUERY</td>\n",
       "      <td>Earlthedog</td>\n",
       "      <td>Just finished eating supper and now I am attac...</td>\n",
       "    </tr>\n",
       "    <tr>\n",
       "      <th>576684</th>\n",
       "      <td>0</td>\n",
       "      <td>2211886069</td>\n",
       "      <td>Wed Jun 17 13:24:27 PDT 2009</td>\n",
       "      <td>NO_QUERY</td>\n",
       "      <td>StefyyMarie</td>\n",
       "      <td>i hate love right now.</td>\n",
       "    </tr>\n",
       "    <tr>\n",
       "      <th>837327</th>\n",
       "      <td>4</td>\n",
       "      <td>1558734942</td>\n",
       "      <td>Sun Apr 19 09:15:07 PDT 2009</td>\n",
       "      <td>NO_QUERY</td>\n",
       "      <td>tezzer57</td>\n",
       "      <td>Photo fest in LDN, Tudor feast last night, don...</td>\n",
       "    </tr>\n",
       "    <tr>\n",
       "      <th>985344</th>\n",
       "      <td>4</td>\n",
       "      <td>1834470136</td>\n",
       "      <td>Mon May 18 03:03:30 PDT 2009</td>\n",
       "      <td>NO_QUERY</td>\n",
       "      <td>dave_sherratt</td>\n",
       "      <td>@piercedbrat happy bday for tomoz, all the bes...</td>\n",
       "    </tr>\n",
       "  </tbody>\n",
       "</table>\n",
       "</div>"
      ],
      "text/plain": [
       "         0  1467810369  Mon Apr 06 22:19:45 PDT 2009  NO_QUERY  \\\n",
       "1016244  4  1881672289  Fri May 22 05:16:44 PDT 2009  NO_QUERY   \n",
       "1303317  4  2009051656  Tue Jun 02 15:04:22 PDT 2009  NO_QUERY   \n",
       "576684   0  2211886069  Wed Jun 17 13:24:27 PDT 2009  NO_QUERY   \n",
       "837327   4  1558734942  Sun Apr 19 09:15:07 PDT 2009  NO_QUERY   \n",
       "985344   4  1834470136  Mon May 18 03:03:30 PDT 2009  NO_QUERY   \n",
       "\n",
       "        _TheSpecialOne_  \\\n",
       "1016244    viry_trivium   \n",
       "1303317      Earlthedog   \n",
       "576684      StefyyMarie   \n",
       "837327         tezzer57   \n",
       "985344    dave_sherratt   \n",
       "\n",
       "        @switchfoot http://twitpic.com/2y1zl - Awww, that's a bummer.  You shoulda got David Carr of Third Day to do it. ;D  \n",
       "1016244                           Happy birthday, sister!                                                                    \n",
       "1303317  Just finished eating supper and now I am attac...                                                                   \n",
       "576684                             i hate love right now.                                                                    \n",
       "837327   Photo fest in LDN, Tudor feast last night, don...                                                                   \n",
       "985344   @piercedbrat happy bday for tomoz, all the bes...                                                                   "
      ]
     },
     "execution_count": 5,
     "metadata": {},
     "output_type": "execute_result"
    }
   ],
   "source": [
    "df.head()"
   ]
  },
  {
   "cell_type": "code",
   "execution_count": null,
   "metadata": {},
   "outputs": [],
   "source": [
    "# Save the data to a new CSV file\n",
    "\n",
    "df.to_csv('sentiment_data_100k.csv', index=False)"
   ]
  }
 ],
 "metadata": {
  "kernelspec": {
   "display_name": "Python 3",
   "language": "python",
   "name": "python3"
  },
  "language_info": {
   "codemirror_mode": {
    "name": "ipython",
    "version": 3
   },
   "file_extension": ".py",
   "mimetype": "text/x-python",
   "name": "python",
   "nbconvert_exporter": "python",
   "pygments_lexer": "ipython3",
   "version": "3.10.6"
  },
  "orig_nbformat": 4
 },
 "nbformat": 4,
 "nbformat_minor": 2
}
